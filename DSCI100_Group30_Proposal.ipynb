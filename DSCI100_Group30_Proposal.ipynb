{
 "cells": [
  {
   "cell_type": "markdown",
   "id": "dd9992a9-d85b-486d-b5bf-efbe0c8394a1",
   "metadata": {},
   "source": [
    "# Title"
   ]
  },
  {
   "cell_type": "markdown",
   "id": "a1cb8144-b51e-4f40-a3e3-39248f07cdc7",
   "metadata": {},
   "source": [
    "## Introduction"
   ]
  },
  {
   "cell_type": "raw",
   "id": "32541a54-35f2-4011-9d17-ca122233d95e",
   "metadata": {},
   "source": []
  },
  {
   "cell_type": "markdown",
   "id": "559e1dc6-47dd-4fe1-abb4-77783df76924",
   "metadata": {},
   "source": [
    "## Methods and Results"
   ]
  },
  {
   "cell_type": "code",
   "execution_count": null,
   "id": "04538702-0674-4291-94e2-c870519b3516",
   "metadata": {},
   "outputs": [],
   "source": []
  },
  {
   "cell_type": "markdown",
   "id": "161d4169-b0e9-4307-9451-3bc64de5e6c6",
   "metadata": {},
   "source": [
    "## Discussion"
   ]
  },
  {
   "cell_type": "code",
   "execution_count": null,
   "id": "5c49ba69-47c4-4d69-abc4-15c150ea47d9",
   "metadata": {},
   "outputs": [],
   "source": []
  },
  {
   "cell_type": "markdown",
   "id": "60d48208-f8dc-490c-afa0-56acbb4e0243",
   "metadata": {},
   "source": [
    "## References"
   ]
  },
  {
   "cell_type": "code",
   "execution_count": null,
   "id": "9dfbf1dd-5b63-4c25-98f8-f21029788265",
   "metadata": {},
   "outputs": [],
   "source": []
  }
 ],
 "metadata": {
  "kernelspec": {
   "display_name": "R",
   "language": "R",
   "name": "ir"
  },
  "language_info": {
   "codemirror_mode": "r",
   "file_extension": ".r",
   "mimetype": "text/x-r-source",
   "name": "R",
   "pygments_lexer": "r",
   "version": "4.3.1"
  }
 },
 "nbformat": 4,
 "nbformat_minor": 5
}
