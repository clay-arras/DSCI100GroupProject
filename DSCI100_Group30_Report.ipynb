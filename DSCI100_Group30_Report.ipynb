{
 "cells": [
  {
   "cell_type": "markdown",
   "id": "dd9992a9-d85b-486d-b5bf-efbe0c8394a1",
   "metadata": {},
   "source": [
    "\n",
    "# Title: Classifying the Stage of Heart Disease of Patient's from Cleveland based on Age, Resting Blood Pressure, Cholesterol, and Max Heart Rate.\n",
    "\n",
    "## Group 30: Toby Lau, Neil Lin, Tanish Gupta, Kristy Fielding\n",
    "\n",
    "### Background Information & Introduction\n",
    "\n",
    "Heart disease is one of the leading causes of death across the United States of America that is caused by a wide variety of factors. Common heart diseases include coronary heart disease, arrhythmias, strokes, etc. Throughout the 21st century, medical professionals have deduced how certain factors may give leeway to one having a certain type of heart disease and the extent of its danger to the human body (Centers for Disease Control and Prevention, 2023). In this project, we will try to predict the severity of a patient's heart disease given the relevant predictors. The dataset being used is a collection of patients from Cleveland, Ohio, all of whom were suspected to have heart disease. The dataset contains 14 attributes that could contribute to the severity of one’s heart disease. Of the 14, we hope to train a model that is able to classify these stages given some attributes.\n",
    "\n",
    "**Research Question: How can age, resting blood pressure, cholesterol, and max heart rate determine the stage of heart disease of patients from Cleveland?**"
   ]
  },
  {
   "cell_type": "markdown",
   "id": "559e1dc6-47dd-4fe1-abb4-77783df76924",
   "metadata": {},
   "source": [
    "## Methods\n",
    "To obtain a high quality model trained on the data used, we will have to do some data preprocessing and model tuning.\n",
    "\n",
    "### Data reading and wrangling\n",
    "1. Import the required libraries and load the dataset from the web\n",
    "2. Assign column names and types to the dataset\n",
    "3. Wrangle the dataset into a tidy format.\n",
    "4. Split the data into training and testing sets\n",
    "5. Summarize and visualize data\n",
    "\n",
    "### Hyperparameter Tuning\n",
    "1. Set a seed.\n",
    "2. Create a recipe that defines the \"stage\" column as our response variable and everything else as its predictors.\n",
    "3. Scale, center, and upscale the data using the SMOTE algorithm.\n",
    "4. Create a $k$-nn model  with the neighbors = tune() parameter.\n",
    "5. Create a tibble with a single neighbors column containing numbers from 1 to ???.\n",
    "6. Perform Cross-validation ...\n",
    "7. Plot the accuracy of the model against the number of neighbors to determine the $k$ value with the highest accuracy.\n",
    "8. Using the $k$ value that obtained the highest accuracy, create a new $k$-nn model\n",
    "\n",
    "### Evaluating\n",
    "1. Test the model using our testing data set.\n",
    "2. Check for over/underfitting.\n",
    "3. Create a confusion matrix\n",
    "4. Assess the model's performance using tidymodels.\n"
   ]
  },
  {
   "cell_type": "code",
   "execution_count": null,
   "id": "04538702-0674-4291-94e2-c870519b3516",
   "metadata": {},
   "outputs": [],
   "source": []
  },
  {
   "cell_type": "markdown",
   "id": "161d4169-b0e9-4307-9451-3bc64de5e6c6",
   "metadata": {},
   "source": [
    "## Discussion"
   ]
  },
  {
   "cell_type": "code",
   "execution_count": null,
   "id": "5c49ba69-47c4-4d69-abc4-15c150ea47d9",
   "metadata": {},
   "outputs": [],
   "source": []
  },
  {
   "cell_type": "markdown",
   "id": "60d48208-f8dc-490c-afa0-56acbb4e0243",
   "metadata": {},
   "source": [
    "## References"
   ]
  },
  {
   "cell_type": "code",
   "execution_count": null,
   "id": "9dfbf1dd-5b63-4c25-98f8-f21029788265",
   "metadata": {},
   "outputs": [],
   "source": []
  }
 ],
 "metadata": {
  "kernelspec": {
   "display_name": "R",
   "language": "R",
   "name": "ir"
  },
  "language_info": {
   "codemirror_mode": "r",
   "file_extension": ".r",
   "mimetype": "text/x-r-source",
   "name": "R",
   "pygments_lexer": "r",
   "version": "4.3.1"
  }
 },
 "nbformat": 4,
 "nbformat_minor": 5
}
